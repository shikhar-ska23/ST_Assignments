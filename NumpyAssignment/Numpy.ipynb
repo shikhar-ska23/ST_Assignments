{
 "cells": [
  {
   "cell_type": "markdown",
   "metadata": {},
   "source": [
    "# Part A #\n"
   ]
  },
  {
   "cell_type": "markdown",
   "metadata": {},
   "source": [
    "\n",
    "    1. min\n",
    "    2. max\n",
    "    3. mean\n",
    "    4. argmin\n",
    "    5. argmax\n",
    "    6. linalg.solve\n",
    "    7. flatten\n",
    "    8. ravel\n",
    "    9. dot Product\n",
    "    10. * for Matrix (Element wise multiplication)\n",
    "    11. arange followed by reshape\n",
    "    12. identity / eye\n",
    "    13. sum\n",
    "    14. diag\n",
    "    15. tril /triu\n",
    "    "
   ]
  },
  {
   "cell_type": "code",
   "execution_count": 195,
   "metadata": {
    "collapsed": true
   },
   "outputs": [],
   "source": [
    "import numpy as np"
   ]
  },
  {
   "cell_type": "code",
   "execution_count": 196,
   "metadata": {
    "collapsed": false
   },
   "outputs": [
    {
     "data": {
      "text/plain": [
       "array([[ 1,  4,  9],\n",
       "       [16, 25, 36],\n",
       "       [49, 64, 81]])"
      ]
     },
     "execution_count": 196,
     "metadata": {},
     "output_type": "execute_result"
    }
   ],
   "source": [
    "a = (np.arange(1, 10) ** 2).reshape(3, 3)\n",
    "a"
   ]
  },
  {
   "cell_type": "markdown",
   "metadata": {},
   "source": [
    "#### Minimum Value ####"
   ]
  },
  {
   "cell_type": "code",
   "execution_count": 197,
   "metadata": {
    "collapsed": false
   },
   "outputs": [],
   "source": [
    "min_value = a.min()"
   ]
  },
  {
   "cell_type": "markdown",
   "metadata": {},
   "source": [
    "#### Maximum Value ####"
   ]
  },
  {
   "cell_type": "code",
   "execution_count": 198,
   "metadata": {
    "collapsed": false
   },
   "outputs": [],
   "source": [
    "max_value = a.max()"
   ]
  },
  {
   "cell_type": "markdown",
   "metadata": {},
   "source": [
    "#### Mean Value ####"
   ]
  },
  {
   "cell_type": "code",
   "execution_count": 199,
   "metadata": {
    "collapsed": false
   },
   "outputs": [],
   "source": [
    "mean_value = a.mean()"
   ]
  },
  {
   "cell_type": "markdown",
   "metadata": {},
   "source": [
    "#### Minimum Argument Value ####"
   ]
  },
  {
   "cell_type": "code",
   "execution_count": 200,
   "metadata": {
    "collapsed": false
   },
   "outputs": [],
   "source": [
    "argmin_value = a.argmin()"
   ]
  },
  {
   "cell_type": "markdown",
   "metadata": {},
   "source": [
    "#### Maxmimum Agrument Value ####"
   ]
  },
  {
   "cell_type": "code",
   "execution_count": 201,
   "metadata": {
    "collapsed": false
   },
   "outputs": [],
   "source": [
    "argmin_value = a.argmax()"
   ]
  },
  {
   "cell_type": "code",
   "execution_count": 202,
   "metadata": {
    "collapsed": false
   },
   "outputs": [],
   "source": [
    "b = np.array([[1, 2, 3], [4, 5, 6], [7, 8, 9]])\n",
    "c = np.array([10, 11, 12])\n",
    "d = np.array([[13, 14, 15], [16, 17, 18], [19, 20, 21]])"
   ]
  },
  {
   "cell_type": "markdown",
   "metadata": {},
   "source": [
    "#### Line argument eqution solution ####"
   ]
  },
  {
   "cell_type": "code",
   "execution_count": 203,
   "metadata": {
    "collapsed": false
   },
   "outputs": [
    {
     "data": {
      "text/plain": [
       "array([  2.26666667, -13.53333333,  11.6       ])"
      ]
     },
     "execution_count": 203,
     "metadata": {},
     "output_type": "execute_result"
    }
   ],
   "source": [
    "solve = np.linalg.solve(b, c)\n",
    "solve"
   ]
  },
  {
   "cell_type": "markdown",
   "metadata": {},
   "source": [
    "#### Making a 2D into 1D array using flattern ####"
   ]
  },
  {
   "cell_type": "code",
   "execution_count": 204,
   "metadata": {
    "collapsed": false
   },
   "outputs": [],
   "source": [
    "flat = b.flatten()"
   ]
  },
  {
   "cell_type": "markdown",
   "metadata": {},
   "source": [
    "#### Making a 2D into 1D array using ravel ####"
   ]
  },
  {
   "cell_type": "code",
   "execution_count": 205,
   "metadata": {
    "collapsed": false
   },
   "outputs": [],
   "source": [
    "ravel = b.ravel()"
   ]
  },
  {
   "cell_type": "markdown",
   "metadata": {},
   "source": [
    "#### Dot product of two matrix ####"
   ]
  },
  {
   "cell_type": "code",
   "execution_count": 206,
   "metadata": {
    "collapsed": false
   },
   "outputs": [
    {
     "data": {
      "text/plain": [
       "array([[102, 108, 114],\n",
       "       [246, 261, 276],\n",
       "       [390, 414, 438]])"
      ]
     },
     "execution_count": 206,
     "metadata": {},
     "output_type": "execute_result"
    }
   ],
   "source": [
    "dot_product = np.dot(b, d)\n",
    "dot_product"
   ]
  },
  {
   "cell_type": "markdown",
   "metadata": {},
   "source": [
    "#### Multipling two matrix ####"
   ]
  },
  {
   "cell_type": "code",
   "execution_count": 207,
   "metadata": {
    "collapsed": false
   },
   "outputs": [],
   "source": [
    "multiply = np.multiply(b, d)"
   ]
  },
  {
   "cell_type": "markdown",
   "metadata": {},
   "source": [
    "#### Creating an array with arrange and then using Reshape ####"
   ]
  },
  {
   "cell_type": "code",
   "execution_count": 208,
   "metadata": {
    "collapsed": false
   },
   "outputs": [],
   "source": [
    "reshaped_array=np.arange(10).reshape(2, 5)"
   ]
  },
  {
   "cell_type": "markdown",
   "metadata": {},
   "source": [
    "#### Creating a identity matrix ####"
   ]
  },
  {
   "cell_type": "code",
   "execution_count": 209,
   "metadata": {
    "collapsed": false
   },
   "outputs": [],
   "source": [
    "identty_matrix = np.identity(4)"
   ]
  },
  {
   "cell_type": "markdown",
   "metadata": {},
   "source": [
    "#### adding values of element ####"
   ]
  },
  {
   "cell_type": "code",
   "execution_count": 210,
   "metadata": {
    "collapsed": false
   },
   "outputs": [],
   "source": [
    "add = np.sum(b)"
   ]
  },
  {
   "cell_type": "markdown",
   "metadata": {},
   "source": [
    "#### finding all the diagonal elements ####"
   ]
  },
  {
   "cell_type": "code",
   "execution_count": 211,
   "metadata": {
    "collapsed": false
   },
   "outputs": [],
   "source": [
    "diagonal = np.diag(d)"
   ]
  },
  {
   "cell_type": "markdown",
   "metadata": {},
   "source": [
    "#### Lower triangular Matrix ####"
   ]
  },
  {
   "cell_type": "code",
   "execution_count": 212,
   "metadata": {
    "collapsed": false
   },
   "outputs": [],
   "source": [
    "Lower_tri = np.tril(b)"
   ]
  },
  {
   "cell_type": "markdown",
   "metadata": {},
   "source": [
    "#### Upper triangular Matrix ####"
   ]
  },
  {
   "cell_type": "code",
   "execution_count": 213,
   "metadata": {
    "collapsed": false
   },
   "outputs": [],
   "source": [
    "Upper_tri = np.triu(b)"
   ]
  },
  {
   "cell_type": "markdown",
   "metadata": {},
   "source": [
    "# Part B #"
   ]
  },
  {
   "cell_type": "markdown",
   "metadata": {},
   "source": [
    "#### Mimimun Value ####"
   ]
  },
  {
   "cell_type": "code",
   "execution_count": 214,
   "metadata": {
    "collapsed": false
   },
   "outputs": [],
   "source": [
    "minn = a[0][0]\n",
    "for i in list(range(a.shape[0])):\n",
    "    for j in list(range(a.shape[1])):\n",
    "        if (a[i][j] <= minn):\n",
    "            minn = a[i][j]"
   ]
  },
  {
   "cell_type": "markdown",
   "metadata": {},
   "source": [
    "#### Maximum Value ####"
   ]
  },
  {
   "cell_type": "code",
   "execution_count": 215,
   "metadata": {
    "collapsed": false
   },
   "outputs": [],
   "source": [
    "maxx = a[0][0]\n",
    "for i in list(range(a.shape[0])):\n",
    "    for j in list(range(a.shape[1])):\n",
    "        if (a[i][j] >= maxx):\n",
    "            maxx = a[i][j]"
   ]
  },
  {
   "cell_type": "markdown",
   "metadata": {},
   "source": [
    "#### Mean Value ####"
   ]
  },
  {
   "cell_type": "code",
   "execution_count": 216,
   "metadata": {
    "collapsed": false
   },
   "outputs": [
    {
     "data": {
      "text/plain": [
       "31.666666666666668"
      ]
     },
     "execution_count": 216,
     "metadata": {},
     "output_type": "execute_result"
    }
   ],
   "source": [
    "meen = 0\n",
    "for i in list(range(a.shape[0])):\n",
    "    for j in list(range(a.shape[1])):\n",
    "        meen = meen + a[i][j]\n",
    "meen/a.size"
   ]
  },
  {
   "cell_type": "markdown",
   "metadata": {},
   "source": [
    "#### Minimum Argument Value ####"
   ]
  },
  {
   "cell_type": "code",
   "execution_count": 217,
   "metadata": {
    "collapsed": false
   },
   "outputs": [],
   "source": [
    "argmin =0\n",
    "index =0\n",
    "minn= a[0][0]\n",
    "for i in list(range(a.shape[0])):\n",
    "    for j in list(range(a.shape[1])):\n",
    "        if (a[i][j] <= minn):\n",
    "            minn = a[i][j]\n",
    "            argmin = index\n",
    "        index += 1"
   ]
  },
  {
   "cell_type": "markdown",
   "metadata": {},
   "source": [
    "#### Maxmimum Agrument Value ####"
   ]
  },
  {
   "cell_type": "code",
   "execution_count": 218,
   "metadata": {
    "collapsed": false
   },
   "outputs": [],
   "source": [
    "argmax = 0\n",
    "index = 0\n",
    "maxx = a[0][0]\n",
    "for i in list(range(a.shape[0])):\n",
    "    for j in list(range(a.shape[1])):\n",
    "        if (a[i][j] >= maxx):\n",
    "            maxx = a[i][j]\n",
    "            argmax = index\n",
    "        index += 1"
   ]
  },
  {
   "cell_type": "markdown",
   "metadata": {},
   "source": [
    "#### Flattering and ravel ####"
   ]
  },
  {
   "cell_type": "code",
   "execution_count": 219,
   "metadata": {
    "collapsed": false
   },
   "outputs": [],
   "source": [
    "arr = []\n",
    "for i in list(range(a.shape[0])):\n",
    "    for j in list(range(a.shape[1])):\n",
    "        arr.append(a[i][j])"
   ]
  },
  {
   "cell_type": "markdown",
   "metadata": {},
   "source": [
    "#### Reshaping the array ####"
   ]
  },
  {
   "cell_type": "code",
   "execution_count": 235,
   "metadata": {
    "collapsed": false
   },
   "outputs": [
    {
     "data": {
      "text/plain": [
       "[[1, 2, 3, 4], [5, 6, 7, 8], [9, 10, 11, 12]]"
      ]
     },
     "execution_count": 235,
     "metadata": {},
     "output_type": "execute_result"
    }
   ],
   "source": [
    "array = [1, 2, 3, 4, 5, 6, 7, 8, 9, 10, 11, 12]\n",
    "row= 3\n",
    "column= 4\n",
    "count=0\n",
    "reshaped_arr =[]\n",
    "for i in range(row):\n",
    "    w=[]\n",
    "    for j in range(column):\n",
    "        w.append(array[count])\n",
    "        count += 1\n",
    "    reshaped_arr.append(w)"
   ]
  },
  {
   "cell_type": "markdown",
   "metadata": {},
   "source": [
    "#### Dot product of two matrix ####"
   ]
  },
  {
   "cell_type": "code",
   "execution_count": 220,
   "metadata": {
    "collapsed": false
   },
   "outputs": [],
   "source": [
    "arr_dot = np.empty([3, 3])\n",
    "for i in list(range(b.shape[0])):\n",
    "    for j in list(range(b.shape[1])):\n",
    "        s = 0\n",
    "        for k in list(range(d.shape[0])):\n",
    "            s = s + ((b[i][k]) * (d[k][j]))\n",
    "        arr_dot[i][j] = s"
   ]
  },
  {
   "cell_type": "markdown",
   "metadata": {},
   "source": [
    "#### Multipling two matrix ####"
   ]
  },
  {
   "cell_type": "code",
   "execution_count": 221,
   "metadata": {
    "collapsed": false
   },
   "outputs": [],
   "source": [
    "arr_multi = np.empty([3, 3])\n",
    "for i in list(range(b.shape[0])):\n",
    "    for j in list(range(b.shape[1])):\n",
    "        arr_multi[i][j] = b[i][j] * d[i][j]"
   ]
  },
  {
   "cell_type": "markdown",
   "metadata": {},
   "source": [
    "#### Creating a identity matrix ####"
   ]
  },
  {
   "cell_type": "code",
   "execution_count": 222,
   "metadata": {
    "collapsed": false
   },
   "outputs": [],
   "source": [
    "iden = np.empty([3, 3])\n",
    "for i in list(range(iden.shape[0])):\n",
    "    for j in list(range(iden.shape[1])):\n",
    "        if(i == j):\n",
    "            iden[i][j] = 1\n",
    "        else:\n",
    "            iden[i][j] = 0"
   ]
  },
  {
   "cell_type": "markdown",
   "metadata": {},
   "source": [
    "#### adding values of element ####"
   ]
  },
  {
   "cell_type": "code",
   "execution_count": 223,
   "metadata": {
    "collapsed": false
   },
   "outputs": [],
   "source": [
    "sum = 0\n",
    "for i in list(range(b.shape[0])):\n",
    "    for j in list(range(b.shape[1])):\n",
    "        sum = sum + b[i][j]"
   ]
  },
  {
   "cell_type": "markdown",
   "metadata": {},
   "source": [
    "#### finding all the diagonal elements ####"
   ]
  },
  {
   "cell_type": "code",
   "execution_count": 230,
   "metadata": {
    "collapsed": false
   },
   "outputs": [],
   "source": [
    "diag = []\n",
    "if (b.shape[0] == b.shape[1]):\n",
    "    for i in list(range(b.shape[0])):\n",
    "        for j in list(range(b.shape[1])):\n",
    "            if i == j:\n",
    "                diag.append(b[i][j])\n",
    "else:\n",
    "    print \"Error\""
   ]
  },
  {
   "cell_type": "markdown",
   "metadata": {},
   "source": [
    "#### Lower triangular Matrix ####"
   ]
  },
  {
   "cell_type": "code",
   "execution_count": 225,
   "metadata": {
    "collapsed": false
   },
   "outputs": [],
   "source": [
    "lower_trin = np.empty([b.shape[0], b.shape[1]])\n",
    "for i in list(range(b.shape[0])):\n",
    "    for j in list(range(b.shape[1])):\n",
    "        if (i < j):\n",
    "            lower_trin[i][j] = 0\n",
    "        else:\n",
    "            lower_trin[i][j] = b[i][j]"
   ]
  },
  {
   "cell_type": "markdown",
   "metadata": {},
   "source": [
    "#### Upper triangular Matrix ####"
   ]
  },
  {
   "cell_type": "code",
   "execution_count": 228,
   "metadata": {
    "collapsed": false
   },
   "outputs": [],
   "source": [
    "upper_trin = np.empty([d.shape[0], d.shape[1]])\n",
    "for i in list(range(d.shape[0])):\n",
    "    for j in list(range(d.shape[1])):\n",
    "        if (i > j):\n",
    "            upper_trin[i][j] = 0\n",
    "        else:\n",
    "            upper_trin[i][j] = d[i][j]"
   ]
  },
  {
   "cell_type": "code",
   "execution_count": null,
   "metadata": {
    "collapsed": true
   },
   "outputs": [],
   "source": []
  }
 ],
 "metadata": {
  "kernelspec": {
   "display_name": "Python 3",
   "language": "python",
   "name": "python3"
  },
  "language_info": {
   "codemirror_mode": {
    "name": "ipython",
    "version": 3
   },
   "file_extension": ".py",
   "mimetype": "text/x-python",
   "name": "python",
   "nbconvert_exporter": "python",
   "pygments_lexer": "ipython3",
   "version": "3.6.0"
  }
 },
 "nbformat": 4,
 "nbformat_minor": 2
}
